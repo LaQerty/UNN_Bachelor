{
 "cells": [
  {
   "cell_type": "code",
   "execution_count": 1,
   "id": "ae79ce3c",
   "metadata": {},
   "outputs": [],
   "source": [
    "import numpy as np\n",
    "import pandas as pd\n",
    "import matplotlib.pyplot as plt\n",
    "from sklearn.linear_model import LinearRegression\n",
    "from sklearn.model_selection import train_test_split"
   ]
  },
  {
   "cell_type": "markdown",
   "id": "3de91b0f",
   "metadata": {},
   "source": [
    "Вводим данные для 14 больницы 2007 год"
   ]
  },
  {
   "cell_type": "code",
   "execution_count": 2,
   "id": "9360144e",
   "metadata": {},
   "outputs": [],
   "source": [
    "X_1y = [[16.55429711, 0.276827711, 336.8070483, 204637.6647],\n",
    "     [17.53016744, 0.293146613, 356.6617121, 216700.9872],\n",
    "     [17.95233732, 0.30020631, 365.2510102, 221919.6841],\n",
    "     [18.35000117, 0.306856207, 373.3417183, 226835.4471],\n",
    "     [19.27551506, 0.322333028, 392.1718505, 238276.2833]]\n",
    "Y_1y = [163, 153, 149, 145, 138]"
   ]
  },
  {
   "cell_type": "markdown",
   "id": "3306414b",
   "metadata": {},
   "source": [
    "Строим регрессионную модель"
   ]
  },
  {
   "cell_type": "code",
   "execution_count": 3,
   "id": "ce042af5",
   "metadata": {},
   "outputs": [],
   "source": [
    "regressor = LinearRegression().fit(X_1y, Y_1y)"
   ]
  },
  {
   "cell_type": "markdown",
   "id": "a00c79ff",
   "metadata": {},
   "source": [
    "Первый кожфициент $b_0$"
   ]
  },
  {
   "cell_type": "code",
   "execution_count": 4,
   "id": "8ecdce3d",
   "metadata": {
    "scrolled": true
   },
   "outputs": [
    {
     "data": {
      "text/plain": [
       "275.67439422607424"
      ]
     },
     "execution_count": 4,
     "metadata": {},
     "output_type": "execute_result"
    }
   ],
   "source": [
    "regressor.intercept_"
   ]
  },
  {
   "cell_type": "markdown",
   "id": "45dc0d87",
   "metadata": {},
   "source": [
    "Последующие коэфициенты $b_i$"
   ]
  },
  {
   "cell_type": "code",
   "execution_count": 5,
   "id": "c1c5a1f0",
   "metadata": {
    "scrolled": false
   },
   "outputs": [
    {
     "data": {
      "text/plain": [
       "array([ 1.21171464e+09, -1.47288076e+10,  7.47760509e+07, -2.01169434e+05])"
      ]
     },
     "execution_count": 5,
     "metadata": {},
     "output_type": "execute_result"
    }
   ],
   "source": [
    "regressor.coef_"
   ]
  },
  {
   "cell_type": "markdown",
   "id": "8060768d",
   "metadata": {},
   "source": [
    "Наиболее значимый критерий - g!"
   ]
  },
  {
   "cell_type": "markdown",
   "id": "3f689b00",
   "metadata": {},
   "source": [
    "Коэффициент детерминации $R^2$"
   ]
  },
  {
   "cell_type": "code",
   "execution_count": 6,
   "id": "a6bc2274",
   "metadata": {},
   "outputs": [
    {
     "data": {
      "text/plain": [
       "0.9999935205573317"
      ]
     },
     "execution_count": 6,
     "metadata": {},
     "output_type": "execute_result"
    }
   ],
   "source": [
    "regressor.score(X_1y,Y_1y)"
   ]
  },
  {
   "cell_type": "markdown",
   "id": "481cf571",
   "metadata": {},
   "source": [
    "Прогноз"
   ]
  },
  {
   "cell_type": "code",
   "execution_count": 7,
   "id": "5723f80e",
   "metadata": {},
   "outputs": [
    {
     "data": {
      "text/html": [
       "<div>\n",
       "<style scoped>\n",
       "    .dataframe tbody tr th:only-of-type {\n",
       "        vertical-align: middle;\n",
       "    }\n",
       "\n",
       "    .dataframe tbody tr th {\n",
       "        vertical-align: top;\n",
       "    }\n",
       "\n",
       "    .dataframe thead th {\n",
       "        text-align: right;\n",
       "    }\n",
       "</style>\n",
       "<table border=\"1\" class=\"dataframe\">\n",
       "  <thead>\n",
       "    <tr style=\"text-align: right;\">\n",
       "      <th></th>\n",
       "      <th>Actual</th>\n",
       "      <th>Predicted</th>\n",
       "    </tr>\n",
       "  </thead>\n",
       "  <tbody>\n",
       "    <tr>\n",
       "      <th>0</th>\n",
       "      <td>163</td>\n",
       "      <td>162.967476</td>\n",
       "    </tr>\n",
       "    <tr>\n",
       "      <th>1</th>\n",
       "      <td>153</td>\n",
       "      <td>152.990507</td>\n",
       "    </tr>\n",
       "    <tr>\n",
       "      <th>2</th>\n",
       "      <td>149</td>\n",
       "      <td>149.000467</td>\n",
       "    </tr>\n",
       "    <tr>\n",
       "      <th>3</th>\n",
       "      <td>145</td>\n",
       "      <td>145.009847</td>\n",
       "    </tr>\n",
       "    <tr>\n",
       "      <th>4</th>\n",
       "      <td>138</td>\n",
       "      <td>138.031694</td>\n",
       "    </tr>\n",
       "  </tbody>\n",
       "</table>\n",
       "</div>"
      ],
      "text/plain": [
       "   Actual   Predicted\n",
       "0     163  162.967476\n",
       "1     153  152.990507\n",
       "2     149  149.000467\n",
       "3     145  145.009847\n",
       "4     138  138.031694"
      ]
     },
     "execution_count": 7,
     "metadata": {},
     "output_type": "execute_result"
    }
   ],
   "source": [
    "y_pred = regressor.predict(X_1y)\n",
    "df = pd.DataFrame({'Actual': Y_1y, 'Predicted': y_pred})\n",
    "df"
   ]
  },
  {
   "cell_type": "code",
   "execution_count": 8,
   "id": "59626872",
   "metadata": {},
   "outputs": [
    {
     "data": {
      "text/plain": [
       "275.67439422607424"
      ]
     },
     "execution_count": 8,
     "metadata": {},
     "output_type": "execute_result"
    }
   ],
   "source": [
    "regressor.coef_\n",
    "regressor.intercept_"
   ]
  },
  {
   "cell_type": "markdown",
   "id": "025faf78",
   "metadata": {},
   "source": [
    "График"
   ]
  },
  {
   "cell_type": "code",
   "execution_count": 9,
   "id": "6b5c2159",
   "metadata": {},
   "outputs": [],
   "source": [
    "X_1y_graf = [[ 0.276827711],\n",
    "     [ 0.293146613],\n",
    "     [ 0.30020631],\n",
    "     [ 0.306856207],\n",
    "     [ 0.322333028]]\n",
    "regressor_graf = LinearRegression().fit(X_1y_graf, Y_1y)"
   ]
  },
  {
   "cell_type": "markdown",
   "id": "ffe8cb8b",
   "metadata": {},
   "source": [
    "Нарисовать график regressor_graf"
   ]
  },
  {
   "cell_type": "code",
   "execution_count": 10,
   "id": "eef9a33f",
   "metadata": {},
   "outputs": [
    {
     "data": {
      "image/png": "[encoded data removed]",
      "text/plain": [
       "<Figure size 432x288 with 1 Axes>"
      ]
     },
     "metadata": {
      "needs_background": "light"
     },
     "output_type": "display_data"
    }
   ],
   "source": [
    "plt.scatter(X_1y_graf, Y_1y, color='red')\n",
    "plt.plot(X_1y_graf, regressor_graf.predict(X_1y_graf), color='blue')\n",
    "plt.show()"
   ]
  },
  {
   "cell_type": "markdown",
   "id": "951c70e9",
   "metadata": {},
   "source": [
    "Проведем аналогичный анализ для этой же больницы в другие годы:"
   ]
  },
  {
   "cell_type": "markdown",
   "id": "58f9806c",
   "metadata": {},
   "source": [
    "2008 год:"
   ]
  },
  {
   "cell_type": "code",
   "execution_count": 11,
   "id": "db8e560a",
   "metadata": {},
   "outputs": [
    {
     "data": {
      "text/plain": [
       "array([ 1.92650941e+09, -6.18108850e+09,  9.99391299e+07, -2.64178573e+05])"
      ]
     },
     "execution_count": 11,
     "metadata": {},
     "output_type": "execute_result"
    }
   ],
   "source": [
    "X_2y = [[16.20422963, 0.278104628, 334.6154878, 238247.1516],\n",
    "     [17.10190132, 0.293510892, 353.1523055, 251445.417],\n",
    "     [17.47580847, 0.299928063, 360.8734454, 256942.8899],\n",
    "     [17.88935127, 0.30702548, 369.413057, 263023.1169],\n",
    "     [18.75594641, 0.321898394, 387.3081474, 275764.4707]]\n",
    "Y_2y = [155, 145, 144, 138, 132]\n",
    "regressor2 = LinearRegression().fit(X_2y, Y_2y)\n",
    "regressor2.coef_"
   ]
  },
  {
   "cell_type": "code",
   "execution_count": 12,
   "id": "4e61eaeb",
   "metadata": {},
   "outputs": [
    {
     "data": {
      "text/plain": [
       "0.999992394442424"
      ]
     },
     "execution_count": 12,
     "metadata": {},
     "output_type": "execute_result"
    }
   ],
   "source": [
    "regressor2.score(X_2y,Y_2y)"
   ]
  },
  {
   "cell_type": "markdown",
   "id": "f8a3f70c",
   "metadata": {},
   "source": [
    "График"
   ]
  },
  {
   "cell_type": "code",
   "execution_count": 13,
   "id": "5de7b7e1",
   "metadata": {},
   "outputs": [
    {
     "data": {
      "image/png": "[encoded data removed]",
      "text/plain": [
       "<Figure size 432x288 with 1 Axes>"
      ]
     },
     "metadata": {
      "needs_background": "light"
     },
     "output_type": "display_data"
    }
   ],
   "source": [
    "X_2y_graf = [[ 0.278104628],\n",
    "     [ 0.293510892],\n",
    "     [ 0.299928063],\n",
    "     [ 0.30702548],\n",
    "     [ 0.321898394]]\n",
    "regressor_graf2 = LinearRegression().fit(X_2y_graf, Y_2y)\n",
    "plt.scatter(X_2y_graf, Y_2y, color='red')\n",
    "plt.plot(X_2y_graf, regressor_graf2.predict(X_2y_graf), color='blue')\n",
    "plt.show()"
   ]
  },
  {
   "cell_type": "markdown",
   "id": "c94f578f",
   "metadata": {},
   "source": [
    "2009 год:"
   ]
  },
  {
   "cell_type": "code",
   "execution_count": 14,
   "id": "1362ea71",
   "metadata": {},
   "outputs": [
    {
     "data": {
      "text/plain": [
       "array([ 8.51424337e+07, -8.94763878e+07, -3.27994516e+05, -4.48704405e+03])"
      ]
     },
     "execution_count": 14,
     "metadata": {},
     "output_type": "execute_result"
    }
   ],
   "source": [
    "X_3y = [[15.60456768, 0.221865891, 307.4506587, 269201.0652],\n",
    "     [16.50177308, 0.234622366, 325.1279439, 284679.1391],\n",
    "     [16.88757282, 0.24010767, 332.7292043, 291334.7352],\n",
    "     [17.24903989, 0.245247013, 339.8510478, 297570.558],\n",
    "     [18.50946321, 0.263167723, 364.6846727, 319314.6594]]\n",
    "Y_3y = [68, 64, 63, 62, 57]\n",
    "regressor3 = LinearRegression().fit(X_3y, Y_3y)\n",
    "regressor3.coef_"
   ]
  },
  {
   "cell_type": "code",
   "execution_count": 15,
   "id": "e06bb7ed",
   "metadata": {},
   "outputs": [
    {
     "data": {
      "text/plain": [
       "0.9999999650329863"
      ]
     },
     "execution_count": 15,
     "metadata": {},
     "output_type": "execute_result"
    }
   ],
   "source": [
    "regressor3.score(X_3y,Y_3y)"
   ]
  },
  {
   "cell_type": "code",
   "execution_count": 16,
   "id": "1d3ffbc2",
   "metadata": {},
   "outputs": [
    {
     "data": {
      "image/png": "[encoded data removed]",
      "text/plain": [
       "<Figure size 432x288 with 1 Axes>"
      ]
     },
     "metadata": {
      "needs_background": "light"
     },
     "output_type": "display_data"
    }
   ],
   "source": [
    "X_3y_graf = [[ 0.221865891],\n",
    "     [ 0.234622366],\n",
    "     [ 0.24010767],\n",
    "     [ 0.245247013],\n",
    "     [ 0.263167723]]\n",
    "regressor_graf3 = LinearRegression().fit(X_3y_graf, Y_3y)\n",
    "plt.scatter(X_3y_graf, Y_3y, color='red')\n",
    "plt.plot(X_3y_graf, regressor_graf3.predict(X_3y_graf), color='blue')\n",
    "plt.show()"
   ]
  },
  {
   "cell_type": "markdown",
   "id": "40aee546",
   "metadata": {},
   "source": [
    "2010 год:"
   ]
  },
  {
   "cell_type": "code",
   "execution_count": 17,
   "id": "c00507de",
   "metadata": {},
   "outputs": [
    {
     "data": {
      "text/plain": [
       "array([  21885.61826263,     309.6285806 , -245614.70480229,\n",
       "           273.14810893])"
      ]
     },
     "execution_count": 17,
     "metadata": {},
     "output_type": "execute_result"
    }
   ],
   "source": [
    "X_4y = [[17.53297284, 0.319871796, 339.8637837, 304200.0894],\n",
    "     [17.92997555, 0.327114719, 347.5593891, 311088.1545],\n",
    "     [19.10314599, 0.348518057, 370.3004353, 331442.8631]]\n",
    "Y_4y = [50, 49, 46]\n",
    "regressor4 = LinearRegression().fit(X_4y, Y_4y)\n",
    "regressor4.coef_"
   ]
  },
  {
   "cell_type": "code",
   "execution_count": 18,
   "id": "5d534605",
   "metadata": {},
   "outputs": [
    {
     "data": {
      "text/plain": [
       "0.9999999999999997"
      ]
     },
     "execution_count": 18,
     "metadata": {},
     "output_type": "execute_result"
    }
   ],
   "source": [
    "regressor4.score(X_4y,Y_4y)"
   ]
  },
  {
   "cell_type": "code",
   "execution_count": 19,
   "id": "42c15a76",
   "metadata": {},
   "outputs": [
    {
     "data": {
      "image/png": "[encoded data removed]",
      "text/plain": [
       "<Figure size 432x288 with 1 Axes>"
      ]
     },
     "metadata": {
      "needs_background": "light"
     },
     "output_type": "display_data"
    }
   ],
   "source": [
    "X_4y_graf = [[339.8637837],\n",
    "     [347.5593891],\n",
    "     [370.3004353]]\n",
    "regressor_graf4 = LinearRegression().fit(X_4y_graf, Y_4y)\n",
    "plt.scatter(X_4y_graf, Y_4y, color='red')\n",
    "plt.plot(X_4y_graf, regressor_graf4.predict(X_4y_graf), color='blue')\n",
    "plt.show()"
   ]
  },
  {
   "cell_type": "markdown",
   "id": "fd66022a",
   "metadata": {},
   "source": [
    "2011 год: "
   ]
  },
  {
   "cell_type": "code",
   "execution_count": 20,
   "id": "61b83765",
   "metadata": {},
   "outputs": [
    {
     "data": {
      "text/plain": [
       "array([-5.26135512e+08,  8.60215452e+07, -7.55699437e+07,  9.07922259e+04])"
      ]
     },
     "execution_count": 20,
     "metadata": {},
     "output_type": "execute_result"
    }
   ],
   "source": [
    "X_5y = [[13.85209864, 0.058695333, 277.0419727, 310809.4114],\n",
    "     [14.15678195, 0.059986364, 283.1356389, 317645.8081],\n",
    "     [14.4869302, 0.061385297, 289.7386039, 325053.5797],\n",
    "     [15.33522769, 0.064979778, 306.7045538, 344087.4352]]\n",
    "Y_5y = [25, 34, 33, 31]\n",
    "regressor5 = LinearRegression().fit(X_5y, Y_5y)\n",
    "regressor5.coef_"
   ]
  },
  {
   "cell_type": "code",
   "execution_count": 21,
   "id": "64564dd8",
   "metadata": {},
   "outputs": [
    {
     "data": {
      "text/plain": [
       "0.9999999999768848"
      ]
     },
     "execution_count": 21,
     "metadata": {},
     "output_type": "execute_result"
    }
   ],
   "source": [
    "regressor5.score(X_5y,Y_5y)"
   ]
  },
  {
   "cell_type": "code",
   "execution_count": 22,
   "id": "bc145b90",
   "metadata": {},
   "outputs": [
    {
     "data": {
      "image/png": "[encoded data removed]",
      "text/plain": [
       "<Figure size 432x288 with 1 Axes>"
      ]
     },
     "metadata": {
      "needs_background": "light"
     },
     "output_type": "display_data"
    }
   ],
   "source": [
    "X_5y_graf = [[13.85209864],\n",
    "     [14.15678195],\n",
    "     [14.4869302],\n",
    "     [15.33522769]]\n",
    "regressor_graf5 = LinearRegression().fit(X_5y_graf, Y_5y)\n",
    "plt.scatter(X_5y_graf, Y_5y, color='red')\n",
    "plt.plot(X_5y_graf, regressor_graf5.predict(X_5y_graf), color='blue')\n",
    "plt.show()"
   ]
  },
  {
   "cell_type": "markdown",
   "id": "e8d66349",
   "metadata": {},
   "source": [
    "2012 год:"
   ]
  },
  {
   "cell_type": "code",
   "execution_count": 23,
   "id": "d2ef3892",
   "metadata": {},
   "outputs": [
    {
     "data": {
      "text/plain": [
       "array([-3.73123518e+07,  7.87222711e+06,  4.91696067e+07, -4.86188400e+04])"
      ]
     },
     "execution_count": 23,
     "metadata": {},
     "output_type": "execute_result"
    }
   ],
   "source": [
    "X_6y = [[16.43479509, 0.140126146, 346.4518863, 337786.4474],\n",
    "     [16.79093625, 0.143162672, 353.9594807, 345106.2622],\n",
    "     [17.72845451, 0.151156129, 373.722731, 364375.195]]\n",
    "Y_6y = [50, 49, 47]\n",
    "regressor6 = LinearRegression().fit(X_6y, Y_6y)\n",
    "regressor6.coef_"
   ]
  },
  {
   "cell_type": "code",
   "execution_count": 24,
   "id": "65ef05b4",
   "metadata": {},
   "outputs": [
    {
     "data": {
      "text/plain": [
       "0.999999998411469"
      ]
     },
     "execution_count": 24,
     "metadata": {},
     "output_type": "execute_result"
    }
   ],
   "source": [
    "regressor6.score(X_6y,Y_6y)"
   ]
  },
  {
   "cell_type": "code",
   "execution_count": 25,
   "id": "c316db69",
   "metadata": {},
   "outputs": [
    {
     "data": {
      "image/png": "[encoded data removed]",
      "text/plain": [
       "<Figure size 432x288 with 1 Axes>"
      ]
     },
     "metadata": {
      "needs_background": "light"
     },
     "output_type": "display_data"
    }
   ],
   "source": [
    "X_6y_graf = [[346.4518863],\n",
    "     [353.9594807],\n",
    "     [373.722731]]\n",
    "regressor_graf6 = LinearRegression().fit(X_6y_graf, Y_6y)\n",
    "plt.scatter(X_6y_graf, Y_6y, color='red')\n",
    "plt.plot(X_6y_graf, regressor_graf6.predict(X_6y_graf), color='blue')\n",
    "plt.show()"
   ]
  },
  {
   "cell_type": "markdown",
   "id": "066c3f57",
   "metadata": {},
   "source": [
    "2013 год:"
   ]
  },
  {
   "cell_type": "code",
   "execution_count": 26,
   "id": "3630bb27",
   "metadata": {},
   "outputs": [
    {
     "data": {
      "text/plain": [
       "array([ 3.78733529e+09, -2.19180345e+10, -2.65747507e+08,  1.05048315e+05])"
      ]
     },
     "execution_count": 26,
     "metadata": {},
     "output_type": "execute_result"
    }
   ],
   "source": [
    "X_7y = [[14.62854816, 0.185406187, 316.8591738, 312856.5898],\n",
    "     [15.42162231, 0.195457824, 334.0374212, 329817.8405],\n",
    "     [15.76420394, 0.199799797, 341.4578522, 337144.5363],\n",
    "     [16.13463345, 0.204494721, 349.4814774, 345066.8065],\n",
    "     [17.05055739, 0.216103389, 369.3206918, 364655.4108]]\n",
    "Y_7y = [83, 64, 59, 53, 43]\n",
    "regressor7 = LinearRegression().fit(X_7y, Y_7y)\n",
    "regressor7.coef_"
   ]
  },
  {
   "cell_type": "code",
   "execution_count": 27,
   "id": "4e64fb7d",
   "metadata": {},
   "outputs": [
    {
     "data": {
      "text/plain": [
       "0.9997222509289292"
      ]
     },
     "execution_count": 27,
     "metadata": {},
     "output_type": "execute_result"
    }
   ],
   "source": [
    "regressor7.score(X_7y,Y_7y)"
   ]
  },
  {
   "cell_type": "code",
   "execution_count": 28,
   "id": "3e29c8f6",
   "metadata": {},
   "outputs": [
    {
     "data": {
      "image/png": "[encoded data removed]",
      "text/plain": [
       "<Figure size 432x288 with 1 Axes>"
      ]
     },
     "metadata": {
      "needs_background": "light"
     },
     "output_type": "display_data"
    }
   ],
   "source": [
    "X_7y_graf = [[ 0.185406187],\n",
    "     [ 0.195457824],\n",
    "     [ 0.199799797],\n",
    "     [ 0.204494721],\n",
    "     [ 0.216103389]]\n",
    "regressor_graf7 = LinearRegression().fit(X_7y_graf, Y_7y)\n",
    "plt.scatter(X_7y_graf, Y_7y, color='red')\n",
    "plt.plot(X_7y_graf, regressor_graf7.predict(X_7y_graf), color='blue')\n",
    "plt.show()"
   ]
  },
  {
   "cell_type": "markdown",
   "id": "518c3244",
   "metadata": {},
   "source": [
    "2014 год:"
   ]
  },
  {
   "cell_type": "code",
   "execution_count": 29,
   "id": "4f8e1b29",
   "metadata": {},
   "outputs": [
    {
     "data": {
      "text/plain": [
       "array([-5.22102943e+07, -4.20077232e+08,  2.66778990e+06, -2.59820948e+02])"
      ]
     },
     "execution_count": 29,
     "metadata": {},
     "output_type": "execute_result"
    }
   ],
   "source": [
    "X_8y = [[13.23760772, 0.201681004, 327.3466043, 374992.9348],\n",
    "     [14.13104876, 0.215292987, 349.4400893, 400302.1962],\n",
    "     [14.44694577, 0.220105822, 357.2517586, 409250.8787],\n",
    "     [14.78160395, 0.225204492, 365.5273641, 418731.0246],\n",
    "     [15.55914488, 0.237050684, 384.7548098, 440757.0856]]\n",
    "Y_8y = [58, 54, 53, 52, 49]\n",
    "regressor8 = LinearRegression().fit(X_8y, Y_8y)\n",
    "regressor8.coef_"
   ]
  },
  {
   "cell_type": "code",
   "execution_count": 30,
   "id": "6b5aeb3a",
   "metadata": {},
   "outputs": [
    {
     "data": {
      "text/plain": [
       "0.9999995076608449"
      ]
     },
     "execution_count": 30,
     "metadata": {},
     "output_type": "execute_result"
    }
   ],
   "source": [
    "regressor8.score(X_8y,Y_8y)"
   ]
  },
  {
   "cell_type": "code",
   "execution_count": 31,
   "id": "d6bc10a8",
   "metadata": {},
   "outputs": [
    {
     "data": {
      "image/png": "[encoded data removed]",
      "text/plain": [
       "<Figure size 432x288 with 1 Axes>"
      ]
     },
     "metadata": {
      "needs_background": "light"
     },
     "output_type": "display_data"
    }
   ],
   "source": [
    "X_8y_graf = [[ 0.201681004],\n",
    "     [ 0.215292987],\n",
    "     [ 0.2201058227],\n",
    "     [ 0.225204492],\n",
    "     [ 0.237050684]]\n",
    "regressor_graf8 = LinearRegression().fit(X_8y_graf, Y_8y)\n",
    "plt.scatter(X_8y_graf, Y_8y, color='red')\n",
    "plt.plot(X_8y_graf, regressor_graf8.predict(X_8y_graf), color='blue')\n",
    "plt.show()"
   ]
  },
  {
   "cell_type": "markdown",
   "id": "ae591514",
   "metadata": {},
   "source": [
    "2015 год:"
   ]
  },
  {
   "cell_type": "code",
   "execution_count": 32,
   "id": "b9cb6d29",
   "metadata": {},
   "outputs": [
    {
     "data": {
      "text/plain": [
       "array([ 2.31331324e+08, -2.58742579e+09, -3.46993418e+06, -5.06649578e+03])"
      ]
     },
     "execution_count": 32,
     "metadata": {},
     "output_type": "execute_result"
    }
   ],
   "source": [
    "X_9y = [[13.24727019, 0.127202869, 289.1502925, 341863.1432],\n",
    "     [14.25301794, 0.136860255, 311.1029101, 367817.7801],\n",
    "     [14.57296273, 0.139932427, 318.0863964, 376074.374],\n",
    "     [14.90979999, 0.143166804, 325.4385973, 384766.9003],\n",
    "     [15.61851854, 0.149972057, 340.9079108, 403056.31]]\n",
    "Y_9y = [62, 55, 54, 52, 49]\n",
    "regressor9 = LinearRegression().fit(X_9y, Y_9y)\n",
    "regressor9.coef_"
   ]
  },
  {
   "cell_type": "code",
   "execution_count": 33,
   "id": "97d17637",
   "metadata": {},
   "outputs": [
    {
     "data": {
      "text/plain": [
       "0.9999977765439326"
      ]
     },
     "execution_count": 33,
     "metadata": {},
     "output_type": "execute_result"
    }
   ],
   "source": [
    "regressor9.score(X_9y,Y_9y)"
   ]
  },
  {
   "cell_type": "code",
   "execution_count": 34,
   "id": "2245edb3",
   "metadata": {},
   "outputs": [
    {
     "data": {
      "image/png": "[encoded data removed]",
      "text/plain": [
       "<Figure size 432x288 with 1 Axes>"
      ]
     },
     "metadata": {
      "needs_background": "light"
     },
     "output_type": "display_data"
    }
   ],
   "source": [
    "X_9y_graf = [[0.127202869],\n",
    "     [0.136860255],\n",
    "     [0.139932427],\n",
    "     [0.143166804],\n",
    "     [0.149972057]]\n",
    "regressor_graf9 = LinearRegression().fit(X_9y_graf, Y_9y)\n",
    "plt.scatter(X_9y_graf, Y_9y, color='red')\n",
    "plt.plot(X_9y_graf, regressor_graf9.predict(X_9y_graf), color='blue')\n",
    "plt.show()"
   ]
  },
  {
   "cell_type": "markdown",
   "id": "1283b990",
   "metadata": {},
   "source": [
    "Итого относительно самого значимой зависимой:\n",
    "* 2007,2008,2009,2013,2014,2015 - g(2 переменная)\n",
    "* 2010,2012 - l(3 переменная)\n",
    "* 2011 - q(1 переменная) + положительный наклон графика"
   ]
  },
  {
   "cell_type": "markdown",
   "id": "0b244af4",
   "metadata": {},
   "source": [
    "Общая модель для 14 больницы:"
   ]
  },
  {
   "cell_type": "code",
   "execution_count": 35,
   "id": "1d6d76f9",
   "metadata": {},
   "outputs": [
    {
     "data": {
      "text/plain": [
       "array([-2.18276201e+01,  1.95144671e+01,  1.35167260e+00, -8.25275803e-04])"
      ]
     },
     "execution_count": 35,
     "metadata": {},
     "output_type": "execute_result"
    }
   ],
   "source": [
    "X_all = [[16.55429711, 0.276827711, 336.8070483, 204637.6647],\n",
    "     [17.53016744, 0.293146613, 356.6617121, 216700.9872],\n",
    "     [17.95233732, 0.30020631,  365.2510102, 221919.6841],\n",
    "     [18.35000117, 0.306856207, 373.3417183, 226835.4471],\n",
    "     [19.27551506, 0.322333028, 392.1718505, 238276.2833],\n",
    "     [16.20422963, 0.278104628, 334.6154878, 238247.1516],\n",
    "     [17.10190132, 0.293510892, 353.1523055, 251445.417],\n",
    "     [17.47580847, 0.299928063, 360.8734454, 256942.8899],\n",
    "     [17.88935127, 0.30702548,  369.413057,  263023.1169],\n",
    "     [18.75594641, 0.321898394, 387.3081474, 275764.4707],\n",
    "     [15.60456768, 0.221865891, 307.4506587, 269201.0652],\n",
    "     [16.50177308, 0.234622366, 325.1279439, 284679.1391],\n",
    "     [16.88757282, 0.24010767, 332.7292043, 291334.7352],\n",
    "     [17.24903989, 0.245247013, 339.8510478, 297570.558],\n",
    "     [18.50946321, 0.263167723, 364.6846727, 319314.6594],\n",
    "     [17.53297284, 0.319871796, 339.8637837, 304200.0894],\n",
    "     [17.92997555, 0.327114719, 347.5593891, 311088.1545],\n",
    "     [19.10314599, 0.348518057, 370.3004353, 331442.8631],\n",
    "     [13.85209864, 0.058695333, 277.0419727, 310809.4114],\n",
    "     [14.15678195, 0.059986364, 283.1356389, 317645.8081],\n",
    "     [14.4869302, 0.061385297, 289.7386039, 325053.5797],\n",
    "     [15.33522769, 0.064979778, 306.7045538, 344087.4352],\n",
    "     [16.43479509, 0.140126146, 346.4518863, 337786.4474],\n",
    "     [16.79093625, 0.143162672, 353.9594807, 345106.2622],\n",
    "     [17.72845451, 0.151156129, 373.722731, 364375.195],\n",
    "     [14.62854816, 0.185406187, 316.8591738, 312856.5898],\n",
    "     [15.42162231, 0.195457824, 334.0374212, 329817.8405],\n",
    "     [15.76420394, 0.199799797, 341.4578522, 337144.5363],\n",
    "     [16.13463345, 0.204494721, 349.4814774, 345066.8065],\n",
    "     [17.05055739, 0.216103389, 369.3206918, 364655.4108],\n",
    "     [13.23760772, 0.201681004, 327.3466043, 374992.9348],\n",
    "     [14.13104876, 0.215292987, 349.4400893, 400302.1962],\n",
    "     [14.44694577, 0.220105822, 357.2517586, 409250.8787],\n",
    "     [14.78160395, 0.225204492, 365.5273641, 418731.0246],\n",
    "     [15.55914488, 0.237050684, 384.7548098, 440757.0856],\n",
    "     [13.24727019, 0.127202869, 289.1502925, 341863.1432],\n",
    "     [14.25301794, 0.136860255, 311.1029101, 367817.7801],\n",
    "     [14.57296273, 0.139932427, 318.0863964, 376074.374],\n",
    "     [14.90979999, 0.143166804, 325.4385973, 384766.9003],\n",
    "     [15.61851854, 0.149972057, 340.9079108, 403056.31]]\n",
    "Y_all = [163, 153, 149, 145, 138, 155, 145, 144, 138, 132, 68, 64, 63, 62, 57,\n",
    "            50, 49, 46, 25, 34, 33, 31, 50, 49, 47,83, 64, 59, 53, 43, 58, \n",
    "            54, 53, 52, 49, 62, 55, 54, 52, 49]\n",
    "regressorAll = LinearRegression().fit(X_all, Y_all)\n",
    "regressorAll.coef_"
   ]
  },
  {
   "cell_type": "code",
   "execution_count": 36,
   "id": "96217a34",
   "metadata": {},
   "outputs": [
    {
     "data": {
      "text/plain": [
       "0.9084377669980891"
      ]
     },
     "execution_count": 36,
     "metadata": {},
     "output_type": "execute_result"
    }
   ],
   "source": [
    "regressorAll.score(X_all,Y_all)"
   ]
  },
  {
   "cell_type": "code",
   "execution_count": 37,
   "id": "1da81ebd",
   "metadata": {},
   "outputs": [
    {
     "data": {
      "text/plain": [
       "array([2.98811304e-01, 3.33666993e+02])"
      ]
     },
     "execution_count": 37,
     "metadata": {},
     "output_type": "execute_result"
    }
   ],
   "source": [
    "X_all = [[16.55429711, 0.276827711],\n",
    "     [17.53016744, 0.293146613],\n",
    "     [17.95233732, 0.30020631],\n",
    "     [18.35000117, 0.306856207],\n",
    "     [19.27551506, 0.322333028],\n",
    "     [16.20422963, 0.278104628],\n",
    "     [17.10190132, 0.293510892],\n",
    "     [17.47580847, 0.299928063],\n",
    "     [17.88935127, 0.30702548],\n",
    "     [18.75594641, 0.321898394],\n",
    "     [15.60456768, 0.221865891],\n",
    "     [16.50177308, 0.234622366],\n",
    "     [16.88757282, 0.24010767],\n",
    "     [17.24903989, 0.245247013],\n",
    "     [18.50946321, 0.263167723],\n",
    "     [17.53297284, 0.319871796],\n",
    "     [17.92997555, 0.327114719],\n",
    "     [19.10314599, 0.348518057],\n",
    "     [13.85209864, 0.058695333],\n",
    "     [14.15678195, 0.059986364],\n",
    "     [14.4869302,  0.061385297],\n",
    "     [15.33522769, 0.064979778],\n",
    "     [16.43479509, 0.140126146],\n",
    "     [16.79093625, 0.143162672],\n",
    "     [17.72845451, 0.151156129],\n",
    "     [14.62854816, 0.185406187],\n",
    "     [15.42162231, 0.195457824],\n",
    "     [15.76420394, 0.199799797],\n",
    "     [16.13463345, 0.204494721],\n",
    "     [17.05055739, 0.216103389],\n",
    "     [13.23760772, 0.201681004],\n",
    "     [14.13104876, 0.215292987],\n",
    "     [14.44694577, 0.220105822],\n",
    "     [14.78160395, 0.225204492],\n",
    "     [15.55914488, 0.237050684],\n",
    "     [13.24727019, 0.127202869],\n",
    "     [14.25301794, 0.136860255],\n",
    "     [14.57296273, 0.139932427],\n",
    "     [14.90979999, 0.143166804],\n",
    "     [15.61851854, 0.149972057]]\n",
    "regressorAll = LinearRegression().fit(X_all, Y_all)\n",
    "regressorAll.coef_"
   ]
  },
  {
   "cell_type": "code",
   "execution_count": 38,
   "id": "739daaa8",
   "metadata": {
    "scrolled": true
   },
   "outputs": [
    {
     "data": {
      "image/png": "[encoded data removed]",
      "text/plain": [
       "<Figure size 432x288 with 1 Axes>"
      ]
     },
     "metadata": {
      "needs_background": "light"
     },
     "output_type": "display_data"
    }
   ],
   "source": [
    "X_all_graf = [[0.276827711],\n",
    "     [0.293146613],\n",
    "     [0.30020631],\n",
    "     [0.306856207],\n",
    "     [0.322333028],\n",
    "     [0.278104628],\n",
    "     [0.293510892],\n",
    "     [0.299928063],\n",
    "     [0.30702548],\n",
    "     [0.321898394],\n",
    "     [0.221865891],\n",
    "     [0.234622366],\n",
    "     [0.24010767],\n",
    "     [0.245247013],\n",
    "     [0.263167723],\n",
    "     [0.319871796],\n",
    "     [0.327114719],\n",
    "     [0.348518057],\n",
    "     [0.058695333],\n",
    "     [0.059986364],\n",
    "     [0.061385297],\n",
    "     [0.064979778],\n",
    "     [0.140126146],\n",
    "     [0.143162672],\n",
    "     [0.151156129],\n",
    "     [0.185406187],\n",
    "     [0.195457824],\n",
    "     [0.199799797],\n",
    "     [0.204494721],\n",
    "     [0.216103389],\n",
    "     [0.201681004],\n",
    "     [0.215292987],\n",
    "     [0.220105822],\n",
    "     [0.225204492],\n",
    "     [0.237050684],\n",
    "     [0.127202869],\n",
    "     [0.136860255],\n",
    "     [0.139932427],\n",
    "     [0.143166804],\n",
    "     [0.149972057]]\n",
    "regressor_grafAll = LinearRegression().fit(X_all_graf, Y_all)\n",
    "plt.scatter(X_all_graf, Y_all, color='red')\n",
    "plt.plot(X_all_graf, regressor_grafAll.predict(X_all_graf), color='blue')\n",
    "plt.show()"
   ]
  },
  {
   "cell_type": "markdown",
   "id": "07c7d64c",
   "metadata": {},
   "source": [
    "Попробовать полиномиальную"
   ]
  },
  {
   "cell_type": "markdown",
   "id": "3f11a388",
   "metadata": {},
   "source": [
    "Аналогичные вычисления для 34 больници"
   ]
  },
  {
   "cell_type": "markdown",
   "id": "74cfe491",
   "metadata": {},
   "source": [
    "2007 год:"
   ]
  },
  {
   "cell_type": "code",
   "execution_count": 39,
   "id": "7aad734c",
   "metadata": {},
   "outputs": [
    {
     "data": {
      "text/plain": [
       "array([-8.06683974e+05,  3.53438212e+09, -1.75432389e+07,  2.11512148e+04])"
      ]
     },
     "execution_count": 39,
     "metadata": {},
     "output_type": "execute_result"
    }
   ],
   "source": [
    "X_1y = [[3.653107648, 0.838065872, 341.9308759, 143702.239],\n",
    "     [3.47770677, 0.797826138, 325.5130642, 136802.3758],\n",
    "     [3.402338177, 0.780536405, 318.4588534, 133837.7242],\n",
    "     [3.322328277, 0.762181193, 310.9699267, 130690.376],\n",
    "     [3.137380724, 0.719752048, 293.6588357, 123415.097]]\n",
    "Y_1y = [11, 12, 10, 12, 11]\n",
    "regressor1 = LinearRegression().fit(X_1y, Y_1y)\n",
    "regressor1.coef_"
   ]
  },
  {
   "cell_type": "code",
   "execution_count": 40,
   "id": "5104e4e0",
   "metadata": {},
   "outputs": [
    {
     "data": {
      "text/plain": [
       "0.9999989250412682"
      ]
     },
     "execution_count": 40,
     "metadata": {},
     "output_type": "execute_result"
    }
   ],
   "source": [
    "regressor1.score(X_1y,Y_1y)"
   ]
  },
  {
   "cell_type": "code",
   "execution_count": 41,
   "id": "0047ac9f",
   "metadata": {},
   "outputs": [
    {
     "data": {
      "image/png": "[encoded data removed]",
      "text/plain": [
       "<Figure size 432x288 with 1 Axes>"
      ]
     },
     "metadata": {
      "needs_background": "light"
     },
     "output_type": "display_data"
    }
   ],
   "source": [
    "X_1y_graf = [[0.838065872],\n",
    "     [ 0.797826138],\n",
    "     [ 0.780536405],\n",
    "     [ 0.762181193],\n",
    "     [ 0.719752048]]\n",
    "regressor_graf1 = LinearRegression().fit(X_1y_graf, Y_1y)\n",
    "plt.scatter(X_1y_graf, Y_1y, color='red')\n",
    "plt.plot(X_1y_graf, regressor_graf1.predict(X_1y_graf), color='blue')\n",
    "plt.show()"
   ]
  },
  {
   "cell_type": "markdown",
   "id": "aa7bd080",
   "metadata": {},
   "source": [
    "2008 год:"
   ]
  },
  {
   "cell_type": "code",
   "execution_count": 42,
   "id": "160e81e9",
   "metadata": {},
   "outputs": [
    {
     "data": {
      "text/plain": [
       "array([0., 0., 0., 0.])"
      ]
     },
     "execution_count": 42,
     "metadata": {},
     "output_type": "execute_result"
    }
   ],
   "source": [
    "X_2y = [[4.163219226, 0.300438501, 388.1665431, 322121.4893],\n",
    "     [3.970862869, 0.286557114, 370.2317916, 307238.2672],\n",
    "     [3.879069615, 0.279932859, 361.6732536, 300135.9317],\n",
    "     [3.796074206, 0.273943499, 353.9350012, 293714.3135],\n",
    "     [3.596819849, 0.259564319, 335.3571002, 278297.3713]]\n",
    "Y_2y = [5, 5, 5, 5, 5]\n",
    "regressor2 = LinearRegression().fit(X_2y, Y_2y)\n",
    "regressor2.coef_"
   ]
  },
  {
   "cell_type": "code",
   "execution_count": 43,
   "id": "093378b8",
   "metadata": {},
   "outputs": [
    {
     "data": {
      "text/plain": [
       "1.0"
      ]
     },
     "execution_count": 43,
     "metadata": {},
     "output_type": "execute_result"
    }
   ],
   "source": [
    "regressor2.score(X_2y,Y_2y)"
   ]
  },
  {
   "cell_type": "code",
   "execution_count": 44,
   "id": "9a4deee2",
   "metadata": {},
   "outputs": [
    {
     "data": {
      "image/png": "[encoded data removed]",
      "text/plain": [
       "<Figure size 432x288 with 1 Axes>"
      ]
     },
     "metadata": {
      "needs_background": "light"
     },
     "output_type": "display_data"
    }
   ],
   "source": [
    "X_2y_graf = [[0.300438501],\n",
    "     [ 0.286557114],\n",
    "     [ 0.279932859],\n",
    "     [ 0.273943499],\n",
    "     [ 0.259564319]]\n",
    "regressor_graf2 = LinearRegression().fit(X_2y_graf, Y_2y)\n",
    "plt.scatter(X_2y_graf, Y_2y, color='red')\n",
    "plt.plot(X_2y_graf, regressor_graf2.predict(X_2y_graf), color='blue')\n",
    "plt.show()"
   ]
  },
  {
   "cell_type": "markdown",
   "id": "2832c49f",
   "metadata": {},
   "source": [
    "2009 год:"
   ]
  },
  {
   "cell_type": "code",
   "execution_count": 45,
   "id": "de340d9d",
   "metadata": {},
   "outputs": [
    {
     "data": {
      "text/plain": [
       "array([ 7.92617890e+09,  5.42889401e+10, -1.05309862e+08, -2.50367878e+05])"
      ]
     },
     "execution_count": 45,
     "metadata": {},
     "output_type": "execute_result"
    }
   ],
   "source": [
    "X_3y = [[8.662604228, 0.394751585, 400.234246, 191491.7495],\n",
    "     [8.072714166, 0.367870519, 372.9798317, 178451.8972],\n",
    "     [7.903544152, 0.360161506, 365.1637488, 174712.2987],\n",
    "     [7.722986218, 0.351933549, 356.8215152, 170720.9638],\n",
    "     [7.303085585, 0.332798837, 337.4210429, 161438.8236]]\n",
    "Y_3y = [72, 89, 102, 70, 107]\n",
    "regressor3 = LinearRegression().fit(X_3y, Y_3y)\n",
    "regressor3.coef_"
   ]
  },
  {
   "cell_type": "code",
   "execution_count": 46,
   "id": "b9eaa770",
   "metadata": {},
   "outputs": [
    {
     "data": {
      "text/plain": [
       "0.999968441294282"
      ]
     },
     "execution_count": 46,
     "metadata": {},
     "output_type": "execute_result"
    }
   ],
   "source": [
    "regressor3.score(X_3y,Y_3y)"
   ]
  },
  {
   "cell_type": "code",
   "execution_count": 47,
   "id": "29e83648",
   "metadata": {},
   "outputs": [
    {
     "data": {
      "image/png": "[encoded data removed]",
      "text/plain": [
       "<Figure size 432x288 with 1 Axes>"
      ]
     },
     "metadata": {
      "needs_background": "light"
     },
     "output_type": "display_data"
    }
   ],
   "source": [
    "X_3y_graf = [[0.394751585],\n",
    "     [ 0.367870519],\n",
    "     [ 0.360161506],\n",
    "     [ 0.351933549],\n",
    "     [ 0.332798837]]\n",
    "regressor_graf3 = LinearRegression().fit(X_3y_graf, Y_3y)\n",
    "plt.scatter(X_3y_graf, Y_3y, color='red')\n",
    "plt.plot(X_3y_graf, regressor_graf3.predict(X_3y_graf), color='blue')\n",
    "plt.show()"
   ]
  },
  {
   "cell_type": "markdown",
   "id": "849266ad",
   "metadata": {},
   "source": [
    "2010 год:"
   ]
  },
  {
   "cell_type": "code",
   "execution_count": 48,
   "id": "4c1ea247",
   "metadata": {},
   "outputs": [
    {
     "data": {
      "text/plain": [
       "array([  53566.42547022,    3114.92664467, 2006850.10523322,\n",
       "         -3539.56418237])"
      ]
     },
     "execution_count": 48,
     "metadata": {},
     "output_type": "execute_result"
    }
   ],
   "source": [
    "X_4y = [[12.11514429, 0.799679491, 339.8837757, 192890.21],\n",
    "     [12.38946999, 0.817786798, 347.5798338, 197257.8627],\n",
    "     [13.2001214, 0.871295142, 370.3222177, 210164.5782]]\n",
    "Y_4y = [55, 54, 52]\n",
    "regressor4 = LinearRegression().fit(X_4y, Y_4y)\n",
    "regressor4.coef_"
   ]
  },
  {
   "cell_type": "code",
   "execution_count": 49,
   "id": "b086cc32",
   "metadata": {},
   "outputs": [
    {
     "data": {
      "text/plain": [
       "0.9999999999999978"
      ]
     },
     "execution_count": 49,
     "metadata": {},
     "output_type": "execute_result"
    }
   ],
   "source": [
    "regressor4.score(X_4y,Y_4y)"
   ]
  },
  {
   "cell_type": "code",
   "execution_count": 50,
   "id": "1aee9064",
   "metadata": {},
   "outputs": [
    {
     "data": {
      "image/png": "[encoded data removed]",
      "text/plain": [
       "<Figure size 432x288 with 1 Axes>"
      ]
     },
     "metadata": {
      "needs_background": "light"
     },
     "output_type": "display_data"
    }
   ],
   "source": [
    "X_4y_graf = [[339.8837757],\n",
    "     [ 347.5798338],\n",
    "     [ 370.3222177]]\n",
    "regressor_graf4 = LinearRegression().fit(X_4y_graf, Y_4y)\n",
    "plt.scatter(X_4y_graf, Y_4y, color='red')\n",
    "plt.plot(X_4y_graf, regressor_graf4.predict(X_4y_graf), color='blue')\n",
    "plt.show()"
   ]
  },
  {
   "cell_type": "markdown",
   "id": "3854e5f4",
   "metadata": {},
   "source": [
    "2011 год:"
   ]
  },
  {
   "cell_type": "code",
   "execution_count": 51,
   "id": "10ba47bd",
   "metadata": {},
   "outputs": [
    {
     "data": {
      "text/plain": [
       "array([ 7.24140374e+09, -1.58054556e+10, -4.83825398e+06, -3.57387774e+05])"
      ]
     },
     "execution_count": 51,
     "metadata": {},
     "output_type": "execute_result"
    }
   ],
   "source": [
    "X_5y = [[13.08259537, 0.433198522, 366.3126704, 240962.7502],\n",
    "     [12.35890655, 0.409235316, 346.0493835, 227633.4341],\n",
    "     [12.07725466, 0.399909095, 338.1631304, 222445.8079],\n",
    "     [11.81732709, 0.391302221, 330.8851584, 217658.3127]]\n",
    "Y_5y = [98, 103, 103, 122]\n",
    "regressor5 = LinearRegression().fit(X_5y, Y_5y)\n",
    "regressor5.coef_"
   ]
  },
  {
   "cell_type": "code",
   "execution_count": 52,
   "id": "1c941d4d",
   "metadata": {},
   "outputs": [
    {
     "data": {
      "text/plain": [
       "0.9999999557013792"
      ]
     },
     "execution_count": 52,
     "metadata": {},
     "output_type": "execute_result"
    }
   ],
   "source": [
    "regressor5.score(X_5y,Y_5y)"
   ]
  },
  {
   "cell_type": "code",
   "execution_count": 53,
   "id": "cd89fe9d",
   "metadata": {},
   "outputs": [
    {
     "data": {
      "image/png": "[encoded data removed]",
      "text/plain": [
       "<Figure size 432x288 with 1 Axes>"
      ]
     },
     "metadata": {
      "needs_background": "light"
     },
     "output_type": "display_data"
    }
   ],
   "source": [
    "X_5y_graf = [[0.433198522],\n",
    "     [ 0.409235316],\n",
    "     [ 0.399909095],\n",
    "     [ 0.391302221]]\n",
    "regressor_graf5 = LinearRegression().fit(X_5y_graf, Y_5y)\n",
    "plt.scatter(X_5y_graf, Y_5y, color='red')\n",
    "plt.plot(X_5y_graf, regressor_graf5.predict(X_5y_graf), color='blue')\n",
    "plt.show()"
   ]
  },
  {
   "cell_type": "markdown",
   "id": "00434699",
   "metadata": {},
   "source": [
    "2012 год:"
   ]
  },
  {
   "cell_type": "code",
   "execution_count": 54,
   "id": "3611c744",
   "metadata": {},
   "outputs": [
    {
     "data": {
      "text/plain": [
       "array([ -587091.9121714 ,   -16158.39237172, -6562934.53743668,\n",
       "          11112.36914615])"
      ]
     },
     "execution_count": 54,
     "metadata": {},
     "output_type": "execute_result"
    }
   ],
   "source": [
    "X_6y = [[13.25855185, 0.280718524, 373.1181065, 221063.4044],\n",
    "     [12.55741152, 0.265873534, 353.38683, 209373.1029],\n",
    "     [12.29106478, 0.260234271, 345.8913817, 204932.2321]]\n",
    "Y_6y = [65, 69, 71]\n",
    "regressor6 = LinearRegression().fit(X_6y, Y_6y)\n",
    "regressor6.coef_"
   ]
  },
  {
   "cell_type": "code",
   "execution_count": 55,
   "id": "f4957cd3",
   "metadata": {},
   "outputs": [
    {
     "data": {
      "text/plain": [
       "0.9999999999998905"
      ]
     },
     "execution_count": 55,
     "metadata": {},
     "output_type": "execute_result"
    }
   ],
   "source": [
    "regressor6.score(X_6y,Y_6y)"
   ]
  },
  {
   "cell_type": "code",
   "execution_count": 56,
   "id": "e2ea725a",
   "metadata": {},
   "outputs": [
    {
     "data": {
      "image/png": "[encoded data removed]",
      "text/plain": [
       "<Figure size 432x288 with 1 Axes>"
      ]
     },
     "metadata": {
      "needs_background": "light"
     },
     "output_type": "display_data"
    }
   ],
   "source": [
    "X_6y_graf = [[373.1181065],\n",
    "     [ 353.38683],\n",
    "     [ 345.8913817]]\n",
    "regressor_graf6 = LinearRegression().fit(X_6y_graf, Y_6y)\n",
    "plt.scatter(X_6y_graf, Y_6y, color='red')\n",
    "plt.plot(X_6y_graf, regressor_graf6.predict(X_6y_graf), color='blue')\n",
    "plt.show()"
   ]
  },
  {
   "cell_type": "markdown",
   "id": "8da9a421",
   "metadata": {},
   "source": [
    "2013 год:"
   ]
  },
  {
   "cell_type": "code",
   "execution_count": 57,
   "id": "0b5879cc",
   "metadata": {
    "scrolled": true
   },
   "outputs": [
    {
     "data": {
      "text/plain": [
       "array([ 3.74722216e+08,  1.83042566e+10, -2.31738040e+07, -1.59032096e+04])"
      ]
     },
     "execution_count": 57,
     "metadata": {},
     "output_type": "execute_result"
    }
   ],
   "source": [
    "X_7y = [[13.09586537, 0.432206778, 369.9257813, 266986.8542],\n",
    "     [12.39238007, 0.408989441, 350.0540626, 252644.8215],\n",
    "     [12.10786767, 0.399599593, 342.0172917, 246844.4358],\n",
    "     [11.84474413, 0.390915648, 334.5847031, 241480.1072],\n",
    "     [11.23561494, 0.370812374, 317.3783111, 229061.723]]\n",
    "Y_7y = [49, 51, 50, 50, 47]\n",
    "regressor7 = LinearRegression().fit(X_7y, Y_7y)\n",
    "regressor7.coef_"
   ]
  },
  {
   "cell_type": "code",
   "execution_count": 59,
   "id": "27b9f692",
   "metadata": {},
   "outputs": [
    {
     "data": {
      "text/plain": [
       "44.01047554016113"
      ]
     },
     "execution_count": 59,
     "metadata": {},
     "output_type": "execute_result"
    }
   ],
   "source": [
    "regressor7.intercept_"
   ]
  },
  {
   "cell_type": "code",
   "execution_count": 60,
   "id": "5a907705",
   "metadata": {},
   "outputs": [
    {
     "data": {
      "text/plain": [
       "0.999972920826938"
      ]
     },
     "execution_count": 60,
     "metadata": {},
     "output_type": "execute_result"
    }
   ],
   "source": [
    "regressor7.score(X_7y,Y_7y)"
   ]
  },
  {
   "cell_type": "code",
   "execution_count": null,
   "id": "29222111",
   "metadata": {},
   "outputs": [],
   "source": [
    "X_7y_graf = [[0.432206778],\n",
    "     [ 0.408989441],\n",
    "     [ 0.399599593],\n",
    "     [ 0.390915648],\n",
    "     [ 0.370812374]]\n",
    "regressor_graf7 = LinearRegression().fit(X_7y_graf, Y_7y)\n",
    "plt.scatter(X_7y_graf, Y_7y, color='red')\n",
    "plt.plot(X_7y_graf, regressor_graf7.predict(X_7y_graf), color='blue')\n",
    "plt.show()"
   ]
  },
  {
   "cell_type": "markdown",
   "id": "097fe26d",
   "metadata": {},
   "source": [
    "2014 год:"
   ]
  },
  {
   "cell_type": "code",
   "execution_count": null,
   "id": "7a1738a1",
   "metadata": {},
   "outputs": [],
   "source": [
    "X_8y = [[13.01623754, 0.215500622, 368.2905623, 187407.8948],\n",
    "     [12.36577394, 0.204731357, 349.8858885, 178042.5145],\n",
    "     [12.08581059, 0.200096202, 341.9644088, 174011.5999],\n",
    "     [11.82154217, 0.195720897, 334.4870128, 170206.6611],\n",
    "     [11.07412059, 0.183346367, 313.3389419, 159445.279]]\n",
    "Y_8y = [97, 93, 89, 86, 74]\n",
    "regressor8 = LinearRegression().fit(X_8y, Y_8y)\n",
    "regressor8.coef_"
   ]
  },
  {
   "cell_type": "code",
   "execution_count": null,
   "id": "30ad4c13",
   "metadata": {},
   "outputs": [],
   "source": [
    "regressor8.score(X_8y,Y_8y)"
   ]
  },
  {
   "cell_type": "code",
   "execution_count": null,
   "id": "fb636b55",
   "metadata": {},
   "outputs": [],
   "source": [
    "X_8y_graf = [[0.215500622],\n",
    "     [ 0.204731357],\n",
    "     [ 0.200096202],\n",
    "     [ 0.195720897],\n",
    "     [ 0.183346367]]\n",
    "regressor_graf8 = LinearRegression().fit(X_8y_graf, Y_8y)\n",
    "plt.scatter(X_8y_graf, Y_8y, color='red')\n",
    "plt.plot(X_8y_graf, regressor_graf8.predict(X_8y_graf), color='blue')\n",
    "plt.show()"
   ]
  },
  {
   "cell_type": "markdown",
   "id": "932a1cd1",
   "metadata": {},
   "source": [
    "2015 год:"
   ]
  },
  {
   "cell_type": "code",
   "execution_count": null,
   "id": "97190536",
   "metadata": {},
   "outputs": [],
   "source": [
    "X_9y = [[11.63354673, 0.171396637, 324.4966829, 239526.1852],\n",
    "     [11.10565349, 0.163619204, 309.7720585, 228657.251],\n",
    "     [10.85475825, 0.159922773, 302.7737908, 223491.5022],\n",
    "     [10.61644546, 0.15641172, 296.126488, 218584.8169],\n",
    "     [9.867308248, 0.145374707, 275.2306643, 203160.6317]]\n",
    "Y_9y = [84, 94, 97, 100, 93]\n",
    "regressor9 = LinearRegression().fit(X_9y, Y_9y)\n",
    "regressor9.coef_"
   ]
  },
  {
   "cell_type": "code",
   "execution_count": null,
   "id": "2f99254f",
   "metadata": {},
   "outputs": [],
   "source": [
    "regressor9.score(X_9y,Y_9y)"
   ]
  },
  {
   "cell_type": "code",
   "execution_count": null,
   "id": "fd2ce1ff",
   "metadata": {},
   "outputs": [],
   "source": [
    "X_9y_graf = [[11.63354673],\n",
    "     [ 11.10565349],\n",
    "     [ 10.85475825],\n",
    "     [ 10.61644546],\n",
    "     [ 9.867308248]]\n",
    "regressor_graf9 = LinearRegression().fit(X_9y_graf, Y_9y)\n",
    "plt.scatter(X_9y_graf, Y_9y, color='red')\n",
    "plt.plot(X_9y_graf, regressor_graf9.predict(X_9y_graf), color='blue')\n",
    "plt.show()"
   ]
  },
  {
   "cell_type": "markdown",
   "id": "240c306c",
   "metadata": {},
   "source": [
    "Итого относительно самого значимой зависимой(34 больница):\n",
    "* 2007,2009,2011,2013,2014 - g(2 переменная)\n",
    "* 2010,2012 - l(3 переменная)\n",
    "* 2015 - q(1 переменная)\n",
    "* 2008 - нейтраль\n",
    "* 2013, 2014 - полжительный наклон\n",
    "* 2007, 2008 - нейтральный наклон"
   ]
  },
  {
   "cell_type": "markdown",
   "id": "8f6e8d30",
   "metadata": {},
   "source": [
    "Общая модель для 34 больницы"
   ]
  },
  {
   "cell_type": "code",
   "execution_count": null,
   "id": "4b578965",
   "metadata": {},
   "outputs": [],
   "source": [
    "X_all = [[3.653107648, 0.838065872, 341.9308759, 143702.239],\n",
    "     [3.47770677, 0.797826138, 325.5130642, 136802.3758],\n",
    "     [3.402338177, 0.780536405, 318.4588534, 133837.7242],\n",
    "     [3.322328277, 0.762181193, 310.9699267, 130690.376],\n",
    "     [3.137380724, 0.719752048, 293.6588357, 123415.097],\n",
    "     [4.163219226, 0.300438501, 388.1665431, 322121.4893],\n",
    "     [3.970862869, 0.286557114, 370.2317916, 307238.2672],\n",
    "     [3.879069615, 0.279932859, 361.6732536, 300135.9317],\n",
    "     [3.796074206, 0.273943499, 353.9350012, 293714.3135],\n",
    "     [3.596819849, 0.259564319, 335.3571002, 278297.3713],\n",
    "     [8.662604228, 0.394751585, 400.234246, 191491.7495],\n",
    "     [8.072714166, 0.367870519, 372.9798317, 178451.8972],\n",
    "     [7.903544152, 0.360161506, 365.1637488, 174712.2987],\n",
    "     [7.722986218, 0.351933549, 356.8215152, 170720.9638],\n",
    "     [7.303085585, 0.332798837, 337.4210429, 161438.8236],\n",
    "     [12.11514429, 0.799679491, 339.8837757, 192890.21],\n",
    "     [12.38946999, 0.817786798, 347.5798338, 197257.8627],\n",
    "     [13.2001214, 0.871295142, 370.3222177, 210164.5782],\n",
    "     [13.08259537, 0.433198522, 366.3126704, 240962.7502],\n",
    "     [12.35890655, 0.409235316, 346.0493835, 227633.4341],\n",
    "     [12.07725466, 0.399909095, 338.1631304, 222445.8079],\n",
    "     [11.81732709, 0.391302221, 330.8851584, 217658.3127],\n",
    "     [13.25855185, 0.280718524, 373.1181065, 221063.4044],\n",
    "     [12.55741152, 0.265873534, 353.38683, 209373.1029],\n",
    "     [12.29106478, 0.260234271, 345.8913817, 204932.2321],\n",
    "     [13.09586537, 0.432206778, 369.9257813, 266986.8542],\n",
    "     [12.39238007, 0.408989441, 350.0540626, 252644.8215],\n",
    "     [12.10786767, 0.399599593, 342.0172917, 246844.4358],\n",
    "     [11.84474413, 0.390915648, 334.5847031, 241480.1072],\n",
    "     [11.23561494, 0.370812374, 317.3783111, 229061.723],\n",
    "     [13.01623754, 0.215500622, 368.2905623, 187407.8948],\n",
    "     [12.36577394, 0.204731357, 349.8858885, 178042.5145],\n",
    "     [12.08581059, 0.200096202, 341.9644088, 174011.5999],\n",
    "     [11.82154217, 0.195720897, 334.4870128, 170206.6611],\n",
    "     [11.07412059, 0.183346367, 313.3389419, 159445.279],\n",
    "     [11.63354673, 0.171396637, 324.4966829, 239526.1852],\n",
    "     [11.10565349, 0.163619204, 309.7720585, 228657.251],\n",
    "     [10.85475825, 0.159922773, 302.7737908, 223491.5022],\n",
    "     [10.61644546, 0.15641172, 296.126488, 218584.8169],\n",
    "     [9.867308248, 0.145374707, 275.2306643, 203160.6317]]\n",
    "Y_all = [11, 12, 10, 12, 11, 5, 5, 5, 5, 5, 72, 89, 102, 70, 107, 55, 54, 52, \n",
    "        98, 103, 103, 122, 65, 69, 71, 49, 51, 50, 50, 47, 97, 93, 89, 86, 74, 84, 94, 97, 100, 93]\n",
    "regressorAll = LinearRegression().fit(X_all, Y_all)\n",
    "regressorAll.coef_"
   ]
  },
  {
   "cell_type": "code",
   "execution_count": null,
   "id": "d1ba749b",
   "metadata": {},
   "outputs": [],
   "source": [
    "regressorAll.score(X_all,Y_all)"
   ]
  },
  {
   "cell_type": "code",
   "execution_count": null,
   "id": "a3949bbc",
   "metadata": {
    "scrolled": true
   },
   "outputs": [],
   "source": [
    "X_all_graf = [[0.838065872],\n",
    "     [0.797826138],\n",
    "     [0.780536405],\n",
    "     [0.762181193],\n",
    "     [0.719752048],\n",
    "     [0.300438501],\n",
    "     [0.286557114],\n",
    "     [0.279932859],\n",
    "     [0.273943499],\n",
    "     [0.259564319],\n",
    "     [0.394751585],\n",
    "     [0.367870519],\n",
    "     [0.360161506],\n",
    "     [0.351933549],\n",
    "     [0.332798837],\n",
    "     [0.799679491],\n",
    "     [0.817786798],\n",
    "     [0.871295142],\n",
    "     [0.433198522],\n",
    "     [0.409235316],\n",
    "     [0.399909095],\n",
    "     [0.391302221],\n",
    "     [0.280718524],\n",
    "     [0.265873534],\n",
    "     [0.260234271],\n",
    "     [0.432206778],\n",
    "     [0.408989441],\n",
    "     [0.399599593],\n",
    "     [0.390915648],\n",
    "     [0.370812374],\n",
    "     [0.215500622],\n",
    "     [0.204731357],\n",
    "     [0.200096202],\n",
    "     [0.195720897],\n",
    "     [0.183346367],\n",
    "     [0.171396637],\n",
    "     [0.163619204],\n",
    "     [0.159922773],\n",
    "     [0.15641172],\n",
    "     [0.145374707]]\n",
    "regressor_grafAll = LinearRegression().fit(X_all_graf, Y_all)\n",
    "plt.scatter(X_all_graf, Y_all, color='red')\n",
    "plt.plot(X_all_graf, regressor_grafAll.predict(X_all_graf), color='blue')\n",
    "plt.show()"
   ]
  },
  {
   "cell_type": "markdown",
   "id": "30a99c53",
   "metadata": {},
   "source": [
    "Общая модель для 24 больницы"
   ]
  },
  {
   "cell_type": "code",
   "execution_count": null,
   "id": "dd8c2bf3",
   "metadata": {},
   "outputs": [],
   "source": [
    "X_all = [[4.872167712, 0.350648434, 236.2263133, 164731.5976],\n",
    "     [5.159380383, 0.371319043, 250.1517761, 174442.4706],\n",
    "     [5.283631052, 0.380261326, 256.176051,  178643.4777],\n",
    "     [5.40066924,  0.388684529, 261.8506298, 182600.6255],\n",
    "     [5.673061289, 0.408288502, 275.057517,  191810.4024],\n",
    "     [6.452027359, 0.37080617,  319.5236767, 248769.1688],\n",
    "     [6.809452699, 0.391347856, 337.2244478, 262550.3262],\n",
    "     [6.958331061, 0.399904084, 344.5973492, 268290.5912],\n",
    "     [7.122991125, 0.409367306, 352.7518076, 274639.3471],\n",
    "     [7.468042736, 0.429197858, 369.8397946, 287943.4138],\n",
    "     [4.696161364, 0.166399418, 171.5023339, 211644.4601],\n",
    "     [4.966173416, 0.175966775, 181.363089,  223813.2402],\n",
    "     [5.082279024, 0.180080753, 185.6032293, 229045.8348],\n",
    "     [5.191061768, 0.183935259, 189.5759408, 233948.4059],\n",
    "     [5.570383478, 0.197375793, 203.4286502, 251043.5039],\n",
    "     [9.936017677, 0.179927886, 346.6810514, 232994.4462],\n",
    "     [10.16100097, 0.18400203,  354.5310216, 238270.1873],\n",
    "     [10.82584214, 0.196041407, 377.7282264, 253860.367],\n",
    "     [9.762990424, 0.254346444, 351.4676553, 194136.5897],\n",
    "     [9.977731909, 0.259940911, 359.1983487, 198406.7137],\n",
    "     [10.21042114, 0.266002956, 367.5751611, 203033.7278],\n",
    "     [10.80830313, 0.281579039, 389.0989127, 214922.5821],\n",
    "     [8.707839056, 0,           358.642861,  259186.6005],\n",
    "     [8.896537477, 0,           366.4146332, 264803.1607],\n",
    "     [9.393273703, 0,           386.8733142, 279588.3873],\n",
    "     [8.04662852,  0.222487425, 327.1492171, 195513.55],\n",
    "     [8.48286956,  0.234549389, 344.8853304, 206113.1488],\n",
    "     [8.671311168, 0.239759756, 352.5467409, 210691.8227],\n",
    "     [8.875070872, 0.245393665, 360.8309344, 215642.6891],\n",
    "     [9.378887083, 0.259324067, 381.3144299, 227884.2007],\n",
    "     [8.158913349, 0.183346367, 319.8844072, 299088.1946],\n",
    "     [8.709579912, 0.195720897, 341.4742488, 319274.445],\n",
    "     [8.904280979, 0.200096202, 349.1078432, 326411.7669],\n",
    "     [9.11054537,  0.204731357, 357.1947979, 333972.9753],\n",
    "     [9.58977766,  0.215500622, 375.9839345, 351540.5991],\n",
    "     [7.795718671, 0.054515515, 280.8094187, 269829.862],\n",
    "     [8.387578459, 0.058654395, 302.1287877, 290315.6507],\n",
    "     [8.575858726, 0.05997104,  308.9108273, 296832.5147],\n",
    "     [8.774079828, 0.061357202, 316.0509454, 303693.4565],\n",
    "     [9.191144655, 0.064273739, 331.0740288, 318129.1423]]\n",
    "Y_all = [5, 5, 6, 5, 6, 5, 5, 5, 5, 5, 5, 5, 5, 5, 5, 49, 47, 44\n",
    "           , 29, 48, 46, 43, 51, 50, 47, 17, 32, 37, 45, 55, \n",
    "           5, 5, 5, 5, 5, 5, 5, 6, 5, 12]\n",
    "regressorAll = LinearRegression().fit(X_all, Y_all)\n",
    "regressorAll.coef_"
   ]
  },
  {
   "cell_type": "code",
   "execution_count": null,
   "id": "970f52e8",
   "metadata": {},
   "outputs": [],
   "source": [
    "regressorAll.score(X_all,Y_all)"
   ]
  },
  {
   "cell_type": "code",
   "execution_count": null,
   "id": "f47024d3",
   "metadata": {
    "scrolled": true
   },
   "outputs": [],
   "source": [
    "X_all_graf = [[0.350648434],\n",
    "     [0.371319043],\n",
    "     [0.380261326],\n",
    "     [0.388684529],\n",
    "     [0.408288502],\n",
    "     [0.37080617],\n",
    "     [0.391347856],\n",
    "     [0.399904084],\n",
    "     [0.409367306],\n",
    "     [0.429197858],\n",
    "     [0.166399418],\n",
    "     [0.175966775],\n",
    "     [0.180080753],\n",
    "     [0.183935259],\n",
    "     [0.197375793],\n",
    "     [0.179927886],\n",
    "     [0.18400203],\n",
    "     [0.196041407],\n",
    "     [0.254346444],\n",
    "     [0.259940911],\n",
    "     [0.266002956],\n",
    "     [0.281579039],\n",
    "     [0],\n",
    "     [0],\n",
    "     [0],\n",
    "     [0.222487425],\n",
    "     [0.234549389],\n",
    "     [0.239759756],\n",
    "     [0.245393665],\n",
    "     [0.259324067],\n",
    "     [0.183346367],\n",
    "     [0.195720897],\n",
    "     [0.200096202],\n",
    "     [0.204731357],\n",
    "     [0.215500622],\n",
    "     [0.054515515],\n",
    "     [0.058654395],\n",
    "     [0.05997104],\n",
    "     [0.061357202],\n",
    "     [0.064273739]]\n",
    "regressor_grafAll = LinearRegression().fit(X_all_graf, Y_all)\n",
    "plt.scatter(X_all_graf, Y_all, color='red')\n",
    "plt.plot(X_all_graf, regressor_grafAll.predict(X_all_graf), color='blue')\n",
    "plt.show()"
   ]
  },
  {
   "cell_type": "markdown",
   "id": "1c7d7a51",
   "metadata": {},
   "source": [
    "Общая модель для 11 больницы"
   ]
  },
  {
   "cell_type": "code",
   "execution_count": null,
   "id": "af68a8fc",
   "metadata": {},
   "outputs": [],
   "source": [
    "X_all = [[6.876437926, 1.031465689, 365.117365, 170474.5449],\n",
    "     [6.546265746, 0.981939862, 347.586254,  162289.2093],\n",
    "     [6.404401275, 0.960660191, 340.0536939, 158772.2313],\n",
    "     [6.253794404, 0.938069161, 332.0569397, 155038.5194],\n",
    "     [5.905657833, 0.885848675, 313.5719758, 146407.8266],\n",
    "     [5.580632859, 1.279281287, 325.6419785, 174834.286],\n",
    "     [5.889785237, 1.350150104, 343.6816874, 184519.6454],\n",
    "     [6.018556464, 1.37966909,  351.1957666, 188553.8878],\n",
    "     [6.160977956, 1.412317206, 359.5063682, 193015.776],\n",
    "     [6.459427768, 1.480732611, 376.9215592, 202365.8374],\n",
    "     [7.19215264,  0.942930038, 307.6540358, 160615.4939],\n",
    "     [7.605675035, 0.997145056, 325.3430144, 169850.2956],\n",
    "     [7.783490317, 1.020457599, 332.949303,  173821.2749],\n",
    "     [7.95009066,  1.042299804, 340.0758575, 177541.8017],\n",
    "     [8.531020366, 1.118462824, 364.9259097, 190515.1514],\n",
    "     [10.08524127, 0.936642278, 381.9104431, 203053.2228],\n",
    "     [9.465882187, 0.879120808, 358.4563982, 190583.2328],\n",
    "     [9.25629011,  0.859655453, 350.519513,  186363.3688],\n",
    "     [9.997771757, 1.115211331, 339.3959817, 219939.5708],\n",
    "     [10.21767737, 1.139740919, 346.8611532, 224777.2433],\n",
    "     [10.45596233, 1.166320651, 354.9502516, 230019.2406],\n",
    "     [11.06822224, 1.234615788, 375.7347383, 243488.2601],\n",
    "     [11.13001958, 1.541387603, 336.9032904, 222259.2564],\n",
    "     [11.37120652, 1.574789392, 344.2039672, 227075.603],\n",
    "     [12.00611535, 1.662717414, 363.4225205, 239754.3196],\n",
    "     [8.677009556, 1.29784331,  328.9847384, 223926.066],\n",
    "     [9.147426162, 1.368204768, 346.8203628, 236066.025],\n",
    "     [9.350630476, 1.398598576, 354.5247589, 241310.0831],\n",
    "     [9.570352922, 1.431463044, 362.8554321, 246980.4218],\n",
    "     [10.11363861, 1.512723723, 383.4538535, 261000.9003],\n",
    "     [7.59053961,  1.595113396, 318.1609513, 326085.6206],\n",
    "     [8.102845131, 1.702771803, 339.6344724, 348093.9985],\n",
    "     [8.283982753, 1.740836955, 347.2269389, 355875.5762],\n",
    "     [8.475878165, 1.781162803, 355.2703232, 364119.3029],\n",
    "     [8.921725733, 1.874855408, 373.9582286, 383272.6818],\n",
    "     [7.904749701, 0.90859192,  302.6701403, 270178.0937],\n",
    "     [8.504887249, 0.977573247, 325.6492,    290690.3205],\n",
    "     [8.695800806, 0.999517334, 332.9592143, 297215.5949],\n",
    "     [8.896794231, 1.022620027, 340.6551833, 304085.3912],\n",
    "     [9.319692133, 1.071228981, 356.8477981, 318539.707]]\n",
    "Y_all = [5, 6, 5, 5, 5, 7, 5, 5, 5, 7, 6, 37, 5, 14, 24, 43, 45, 45,\n",
    "         6, 5, 5, 5, 27, 27, 25, 47, 55, 41, 36, 5, \n",
    "         5, 5, 5, 5, 5, 5, 13, 20, 29, 36]\n",
    "regressorAll = LinearRegression().fit(X_all, Y_all)\n",
    "regressorAll.coef_"
   ]
  },
  {
   "cell_type": "code",
   "execution_count": null,
   "id": "d3340965",
   "metadata": {},
   "outputs": [],
   "source": [
    "regressorAll.score(X_all,Y_all)"
   ]
  },
  {
   "cell_type": "code",
   "execution_count": null,
   "id": "d41dca6e",
   "metadata": {
    "scrolled": true
   },
   "outputs": [],
   "source": [
    "X_all_graf = [[1.031465689],\n",
    "     [0.981939862],\n",
    "     [0.960660191],\n",
    "     [0.938069161],\n",
    "     [0.885848675],\n",
    "     [1.279281287],\n",
    "     [1.350150104],\n",
    "     [1.37966909],\n",
    "     [1.412317206],\n",
    "     [1.480732611],\n",
    "     [0.942930038],\n",
    "     [0.997145056],\n",
    "     [1.020457599],\n",
    "     [1.042299804],\n",
    "     [1.118462824],\n",
    "     [0.936642278],\n",
    "     [0.879120808],\n",
    "     [0.859655453],\n",
    "     [1.115211331],\n",
    "     [1.139740919],\n",
    "     [1.166320651],\n",
    "     [1.234615788],\n",
    "     [1.541387603],\n",
    "     [1.574789392],\n",
    "     [1.662717414],\n",
    "     [1.29784331],\n",
    "     [1.368204768],\n",
    "     [1.398598576],\n",
    "     [1.431463044],\n",
    "     [1.512723723],\n",
    "     [1.595113396],\n",
    "     [1.702771803],\n",
    "     [1.740836955],\n",
    "     [1.781162803],\n",
    "     [1.874855408],\n",
    "     [0.90859192],\n",
    "     [0.977573247],\n",
    "     [0.999517334],\n",
    "     [1.022620027],\n",
    "     [1.071228981]]\n",
    "regressor_grafAll = LinearRegression().fit(X_all_graf, Y_all)\n",
    "plt.scatter(X_all_graf, Y_all, color='red')\n",
    "plt.plot(X_all_graf, regressor_grafAll.predict(X_all_graf), color='blue')\n",
    "plt.show()"
   ]
  },
  {
   "cell_type": "markdown",
   "id": "9f9a4ddc",
   "metadata": {},
   "source": [
    "полиномиальную модель попробовать"
   ]
  },
  {
   "cell_type": "markdown",
   "id": "4bbfb0dd",
   "metadata": {},
   "source": [
    "Общая модель для 37 больницы"
   ]
  },
  {
   "cell_type": "code",
   "execution_count": null,
   "id": "1c4d961b",
   "metadata": {},
   "outputs": [],
   "source": [
    "X_all = [[4.170870845, 0.775117591, 113.3148097, 807961.0108],\n",
    "     [4.416742297, 0.820810515, 119.9946801, 855590.0444],\n",
    "     [4.5231084,   0.840577667, 122.8844495, 876194.7735],\n",
    "     [4.623300183, 0.859197379, 125.606474,  895603.4431],\n",
    "     [4.856484285, 0.902532478, 131.9416527, 940774.7443],\n",
    "     [11.16126572, 0.778692957, 326.7914777, 629175.0289],\n",
    "     [11.77957047, 0.821830498, 344.8948657, 664029.6701],\n",
    "     [12.03711293, 0.839798576, 352.4354692, 678547.6724],\n",
    "     [12.32195591, 0.859671343, 360.7754068, 694604.641],\n",
    "     [12.91885554, 0.901315503, 378.2520726, 728252.6472],\n",
    "     [12.85135716, 2.280786936, 339.3547793, 369852.7604],\n",
    "     [11.97622912, 2.12547411,  316.2460228, 344667.2086],\n",
    "     [11.72525791, 2.080933144, 309.618841,  337444.4388],\n",
    "     [11.45739221, 2.03339384,  302.5455411, 329735.4579],\n",
    "     [10.83445102, 1.922837724, 286.0960667, 311807.6611],\n",
    "     [13.39463148, 1.559375008, 339.8637837, 297609.35],\n",
    "     [13.69792887, 1.594684256, 347.5593891, 304348.1796],\n",
    "     [14.59419363, 1.699025527, 370.3004353, 324261.887],\n",
    "     [14.55547035, 1.862753646, 395.2936516, 382128.1996],\n",
    "     [13.75030663, 1.75971186,  373.4272261, 360990.0463],\n",
    "     [13.43694558, 1.719609107, 364.9170488, 352763.3047],\n",
    "     [13.14775464, 1.682599552, 357.063277,  345171.1067],\n",
    "     [13.6522902,  2.001802082, 361.4453839, 475196.7803],\n",
    "     [13.94813462, 2.045181029, 369.2778866, 485494.2699],\n",
    "     [14.72692567, 2.159373265, 389.8964367, 512601.7364],\n",
    "     [12.31097082, 1.742818159, 322.9775779, 465659.0128],\n",
    "     [12.97839951, 1.837303545, 340.4875294, 490904.3154],\n",
    "     [13.26670649, 1.878118087, 348.0512455, 501809.4458],\n",
    "     [13.57844944, 1.922250373, 356.2298032, 513601.0356],\n",
    "     [14.34926503, 2.031371857, 376.4521037, 542756.9186],\n",
    "     [12.06419097, 1.503440213, 311.3954704, 343593.9131],\n",
    "     [12.87843502, 1.604911354, 332.4123713, 366783.9717],\n",
    "     [13.16633008, 1.640788855, 339.8433891, 374983.3604],\n",
    "     [13.47132327, 1.678797124, 347.7157361, 383669.7119],\n",
    "     [14.1799409,  1.767105097, 366.0062557, 403851.4801],\n",
    "     [13.11184272, 0.428491592, 321.4972417, 422078.2729],\n",
    "     [12.51686913, 0.409048011, 306.9087224, 402925.7072],\n",
    "     [12.23409217, 0.399806934, 299.9751423, 393822.9433],\n",
    "     [11.96549654, 0.391029299, 293.3892829, 385176.6851],\n",
    "     [11.1211651,  0.363436768, 272.6866069, 357997.1371]]\n",
    "Y_all = [5, 5, 5, 5, 5, 5, 8, 5, 8, 5, 27, 28, 31, 32, 25, 21, 24, 21,\n",
    "         30, 32, 34, 43, 25, 25, 23, 31, 24, 30, 29, 29, \n",
    "         83, 75, 73, 70, 65, 39, 45, 48, 52, 60]\n",
    "regressorAll = LinearRegression().fit(X_all, Y_all)\n",
    "regressorAll.coef_"
   ]
  },
  {
   "cell_type": "code",
   "execution_count": null,
   "id": "31c578f8",
   "metadata": {},
   "outputs": [],
   "source": [
    "regressorAll.score(X_all,Y_all)"
   ]
  },
  {
   "cell_type": "code",
   "execution_count": null,
   "id": "89583776",
   "metadata": {
    "scrolled": false
   },
   "outputs": [],
   "source": [
    "X_all_graf = [[4.170870845],\n",
    "     [4.416742297],\n",
    "     [4.5231084],\n",
    "     [4.623300183],\n",
    "     [4.856484285],\n",
    "     [11.16126572],\n",
    "     [11.77957047],\n",
    "     [12.03711293],\n",
    "     [12.32195591],\n",
    "     [12.91885554],\n",
    "     [12.85135716],\n",
    "     [11.97622912],\n",
    "     [11.72525791],\n",
    "     [11.45739221],\n",
    "     [10.83445102],\n",
    "     [13.39463148],\n",
    "     [13.69792887],\n",
    "     [14.59419363],\n",
    "     [14.55547035],\n",
    "     [13.75030663],\n",
    "     [13.43694558],\n",
    "     [13.14775464],\n",
    "     [13.6522902],\n",
    "     [13.94813462],\n",
    "     [14.72692567],\n",
    "     [12.31097082],\n",
    "     [12.97839951],\n",
    "     [13.26670649],\n",
    "     [13.57844944],\n",
    "     [14.34926503],\n",
    "     [12.06419097],\n",
    "     [12.87843502],\n",
    "     [13.16633008],\n",
    "     [13.47132327],\n",
    "     [14.1799409],\n",
    "     [13.11184272],\n",
    "     [12.51686913],\n",
    "     [12.23409217],\n",
    "     [11.96549654],\n",
    "     [11.1211651]]\n",
    "regressor_grafAll = LinearRegression().fit(X_all_graf, Y_all)\n",
    "plt.scatter(X_all_graf, Y_all, color='red')\n",
    "plt.plot(X_all_graf, regressor_grafAll.predict(X_all_graf), color='blue')\n",
    "plt.show()"
   ]
  },
  {
   "cell_type": "markdown",
   "id": "cbba243b",
   "metadata": {},
   "source": [
    "убрать левый хвост, по результатам решить линейная или нет."
   ]
  },
  {
   "cell_type": "markdown",
   "id": "ce1cd7a6",
   "metadata": {},
   "source": [
    "нарисовать диаграммы рассеивания относительно всех плотностей."
   ]
  }
 ],
 "metadata": {
  "kernelspec": {
   "display_name": "Python 3 (ipykernel)",
   "language": "python",
   "name": "python3"
  },
  "language_info": {
   "codemirror_mode": {
    "name": "ipython",
    "version": 3
   },
   "file_extension": ".py",
   "mimetype": "text/x-python",
   "name": "python",
   "nbconvert_exporter": "python",
   "pygments_lexer": "ipython3",
   "version": "3.9.7"
  }
 },
 "nbformat": 4,
 "nbformat_minor": 5
}
